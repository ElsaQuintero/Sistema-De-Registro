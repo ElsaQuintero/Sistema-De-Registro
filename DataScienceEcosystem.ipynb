{
  "nbformat": 4,
  "nbformat_minor": 0,
  "metadata": {
    "colab": {
      "provenance": [],
      "authorship_tag": "ABX9TyM1LB1eucFQfFSCZ0rYFDVR",
      "include_colab_link": true
    },
    "kernelspec": {
      "name": "python3",
      "display_name": "Python 3"
    },
    "language_info": {
      "name": "python"
    }
  },
  "cells": [
    {
      "cell_type": "markdown",
      "metadata": {
        "id": "view-in-github",
        "colab_type": "text"
      },
      "source": [
        "<a href=\"https://colab.research.google.com/github/ElsaQuintero/Sistema-De-Registro/blob/main/DataScienceEcosystem.ipynb\" target=\"_parent\"><img src=\"https://colab.research.google.com/assets/colab-badge.svg\" alt=\"Open In Colab\"/></a>"
      ]
    },
    {
      "cell_type": "markdown",
      "source": [
        "# Data Science Tools and Ecosystem\n",
        "\n",
        "In this notebook, Data Science Tools and Ecosystem are summarized."
      ],
      "metadata": {
        "id": "LD2JbzcbrO3s"
      }
    },
    {
      "cell_type": "markdown",
      "source": [
        "**Objectives**\n",
        "\n",
        "After completing this lab, you will be able to:\n",
        "*   Get an overview of code and markdown cells\n",
        "*   Execute an existing code cell\n",
        "*   Insert and delete a code cell\n",
        "*   Write comments in Python\n",
        "*   Create and use Markdown cells"
      ],
      "metadata": {
        "id": "rrZzt1cm6HYq"
      }
    },
    {
      "cell_type": "markdown",
      "source": [
        "Some of the popular languages that Data Scientists use are:\n",
        "\n",
        "\n",
        "1.  Python\n",
        "2.  R\n",
        "3.   SQL\n",
        "4.  JavaScript\n",
        "5.  Java\n",
        "6.  Scala\n",
        "7.  C/C++\n",
        "8.  MATLAB"
      ],
      "metadata": {
        "id": "Jwl7onvcrwK9"
      }
    },
    {
      "cell_type": "markdown",
      "source": [
        "Some of the commonly used libraries used by Data Scientists include:\n",
        "\n",
        "1.   TensorFlow.\n",
        "2.   NumPy.\n",
        "3.   SciPy.\n",
        "4.   Pandas.\n",
        "5.   Matplotlib.\n",
        "\n"
      ],
      "metadata": {
        "id": "K7xNZLhnswcg"
      }
    },
    {
      "cell_type": "markdown",
      "source": [
        "| Data Science Tools |\n",
        "| -------------|\n",
        "| Jupyter Notebook |\n",
        "| RStudio | Canberra |\n",
        "| Visual Studio Code |"
      ],
      "metadata": {
        "id": "F1B07dtYtMwA"
      }
    },
    {
      "cell_type": "markdown",
      "source": [
        "### Below are a few examples of evaluating arithmetic expressions in Python"
      ],
      "metadata": {
        "id": "SeZxyxfT0adq"
      }
    },
    {
      "cell_type": "code",
      "execution_count": null,
      "metadata": {
        "id": "PlcLvwyaq4J8",
        "colab": {
          "base_uri": "https://localhost:8080/"
        },
        "outputId": "9b30d9b3-d02a-459a-cbcd-9c2f534acb03"
      },
      "outputs": [
        {
          "output_type": "execute_result",
          "data": {
            "text/plain": [
              "17"
            ]
          },
          "metadata": {},
          "execution_count": 3
        }
      ],
      "source": [
        "#  This a simple arithmetic expression to mutiply then add integers\n",
        "\n",
        "(3*4)+5"
      ]
    },
    {
      "cell_type": "code",
      "source": [
        "# This will convert 200 minutes to hours by diving by 60\n",
        "\n",
        "h = 200/60\n",
        "\n",
        "print(\"200 minutos son \" + str(h) + \" horas\")"
      ],
      "metadata": {
        "colab": {
          "base_uri": "https://localhost:8080/"
        },
        "id": "Pe8r2pA83-gj",
        "outputId": "614db5ae-7800-4b2b-c34f-823989b6edc9"
      },
      "execution_count": null,
      "outputs": [
        {
          "output_type": "stream",
          "name": "stdout",
          "text": [
            "200 minutos son 3.3333333333333335horas\n"
          ]
        }
      ]
    },
    {
      "cell_type": "markdown",
      "source": [
        "## Author\n",
        "\n",
        "Elsa Yadira Quintero López"
      ],
      "metadata": {
        "id": "u3ZGqZ0j7JJG"
      }
    }
  ]
}